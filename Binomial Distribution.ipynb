{
 "cells": [
  {
   "cell_type": "code",
   "execution_count": 1,
   "id": "b61a2458-5122-49c7-b573-f7a7eb14d295",
   "metadata": {},
   "outputs": [],
   "source": [
    "from scipy.stats import binom as bm"
   ]
  },
  {
   "cell_type": "code",
   "execution_count": null,
   "id": "9fecef2c-abf0-4056-b823-e16a86377b71",
   "metadata": {},
   "outputs": [],
   "source": [
    "# we have three functions\n",
    "# 1. bm.pmf(r,n,p)\n",
    "# 2. bm.cdf(r,n,p)\n",
    "# 3. bm.sf(r,n,p) - survival function, sometimes r stands for k"
   ]
  },
  {
   "cell_type": "code",
   "execution_count": null,
   "id": "0e6aafc4-3f3a-4cca-8d35-774db90f6f5b",
   "metadata": {},
   "outputs": [],
   "source": [
    "# cdf = area upto a particular value \n",
    "# sf = area above a particulr value"
   ]
  },
  {
   "cell_type": "markdown",
   "id": "290a6562-5a7a-4cc4-964a-d772b6e749bf",
   "metadata": {},
   "source": [
    "## pmf()\n",
    "- It will return probability for a particular no. of success"
   ]
  },
  {
   "cell_type": "code",
   "execution_count": 3,
   "id": "5c339a98-03cc-4379-b51c-a4d6f87378da",
   "metadata": {},
   "outputs": [
    {
     "data": {
      "text/plain": [
       "0.2050781249999999"
      ]
     },
     "execution_count": 3,
     "metadata": {},
     "output_type": "execute_result"
    }
   ],
   "source": [
    "# Q1.\n",
    "p = 0.5\n",
    "n = 10\n",
    "r = 6\n",
    "\n",
    "bm.pmf(r,n,p)"
   ]
  },
  {
   "cell_type": "code",
   "execution_count": 7,
   "id": "5da41ab9-fdb0-4a68-91f0-9688e57cfb97",
   "metadata": {},
   "outputs": [
    {
     "data": {
      "text/plain": [
       "0.205"
      ]
     },
     "execution_count": 7,
     "metadata": {},
     "output_type": "execute_result"
    }
   ],
   "source": [
    "round(bm.pmf(r,n,p),3)"
   ]
  },
  {
   "cell_type": "code",
   "execution_count": 9,
   "id": "84fd9477-79c2-45a4-96ad-db6a060f5c27",
   "metadata": {},
   "outputs": [
    {
     "data": {
      "text/plain": [
       "0.215"
      ]
     },
     "execution_count": 9,
     "metadata": {},
     "output_type": "execute_result"
    }
   ],
   "source": [
    "# Q2.\n",
    "p = 0.6\n",
    "n = 10\n",
    "r = 7\n",
    "\n",
    "round(bm.pmf(r,n,p),3)"
   ]
  },
  {
   "cell_type": "markdown",
   "id": "d4ca9540-cc8f-48b3-90f4-6ec9c4d7be92",
   "metadata": {},
   "source": [
    "## Probability less than a particular value"
   ]
  },
  {
   "cell_type": "code",
   "execution_count": null,
   "id": "9ffe3b31-3301-4eb6-a647-6c72bf2b348d",
   "metadata": {},
   "outputs": [],
   "source": [
    "# There is a 5 match series\n",
    "# The winning probability for the weak team is .30\n",
    "# what is the probability that the weak team will win upto 3 matches"
   ]
  },
  {
   "cell_type": "code",
   "execution_count": null,
   "id": "62ee8f1c-92b3-436e-a7d2-5f378ef80b13",
   "metadata": {},
   "outputs": [],
   "source": [
    "# P(r<=3) ?"
   ]
  },
  {
   "cell_type": "code",
   "execution_count": null,
   "id": "e03d6d26-6e74-4174-b2bf-a264245857b8",
   "metadata": {},
   "outputs": [],
   "source": []
  },
  {
   "cell_type": "code",
   "execution_count": 11,
   "id": "53d4ecbf-af47-44e8-a016-06c6e862c93b",
   "metadata": {},
   "outputs": [
    {
     "data": {
      "text/plain": [
       "0.96922"
      ]
     },
     "execution_count": 11,
     "metadata": {},
     "output_type": "execute_result"
    }
   ],
   "source": [
    "p = .30\n",
    "n = 5\n",
    "r = 3\n",
    "\n",
    "bm.cdf(3,5,.30)\n",
    "# here it is giving cumulative probability\n",
    "# probabilitytogether of 1 match, two match and three match\n",
    "# it may be wiining 1, may be winning 2 or may be winning 3\n",
    "# it tells us the rea under the curve"
   ]
  },
  {
   "cell_type": "markdown",
   "id": "77e0b564-a407-461c-bf8a-a24ff2c49990",
   "metadata": {},
   "source": [
    "## Probability greater than a particular value"
   ]
  },
  {
   "cell_type": "code",
   "execution_count": null,
   "id": "17a15dae-bb52-4fbe-915f-dd4e911e2209",
   "metadata": {},
   "outputs": [],
   "source": [
    "# 1-bm.cdf(r,n,p)\n",
    "# bm.sf(r,n,p)"
   ]
  },
  {
   "cell_type": "code",
   "execution_count": null,
   "id": "51594874-ce6b-4d5a-ac04-650390b2eadf",
   "metadata": {},
   "outputs": [],
   "source": [
    "# There is a 5 match series\n",
    "# The winning probability for the weak team is .70\n",
    "# what is the probability that the stronger team will win 3 matches or more\n",
    "\n",
    "# P(r<=3)"
   ]
  },
  {
   "cell_type": "code",
   "execution_count": 13,
   "id": "083a0ce7-80bb-40c5-acac-bde531658d12",
   "metadata": {},
   "outputs": [
    {
     "data": {
      "text/plain": [
       "0.03078000000000003"
      ]
     },
     "execution_count": 13,
     "metadata": {},
     "output_type": "execute_result"
    }
   ],
   "source": [
    "1-(bm.cdf(r,n,p))"
   ]
  },
  {
   "cell_type": "code",
   "execution_count": 15,
   "id": "6d21f3ac-b20b-40e0-ae4c-301c4e474bcb",
   "metadata": {},
   "outputs": [
    {
     "data": {
      "text/plain": [
       "0.018498596484374998"
      ]
     },
     "execution_count": 15,
     "metadata": {},
     "output_type": "execute_result"
    }
   ],
   "source": [
    "# Q4. \n",
    "n = 8\n",
    "r = 4\n",
    "p = .15\n",
    "\n",
    "bm.pmf(r,n,p)\n"
   ]
  },
  {
   "cell_type": "code",
   "execution_count": 17,
   "id": "f9148ab0-1502-4b6d-9cbe-d2ecf4e9e6d9",
   "metadata": {},
   "outputs": [
    {
     "data": {
      "text/plain": [
       "0.0028538736328124997"
      ]
     },
     "execution_count": 17,
     "metadata": {},
     "output_type": "execute_result"
    }
   ],
   "source": [
    "# Q4.in case of more than 4 that means either 5, or6 or 7\n",
    "bm.sf(r,n,p)\n",
    "\n",
    "# it gives area above the curve"
   ]
  },
  {
   "cell_type": "code",
   "execution_count": 19,
   "id": "59e4017e-c461-485b-a0c0-1bab4931810e",
   "metadata": {},
   "outputs": [
    {
     "data": {
      "text/plain": [
       "0.0213524701171875"
      ]
     },
     "execution_count": 19,
     "metadata": {},
     "output_type": "execute_result"
    }
   ],
   "source": [
    "# in case we want to include 4 also then use that means we are getting more than 3\n",
    "bm.sf(r-1,n,p)"
   ]
  },
  {
   "cell_type": "code",
   "execution_count": null,
   "id": "54a2d2bc-cea6-4395-b055-efe36176e1a0",
   "metadata": {},
   "outputs": [],
   "source": [
    "# more than 4 are pink (may be 5 pink, may be 6 pink,may be 7 pink, may be 8 pink)\n",
    "# total trials - 8\n",
    "# p = 1.5\n",
    "\n",
    "# bm.sf(4,8,1.5)"
   ]
  },
  {
   "cell_type": "code",
   "execution_count": null,
   "id": "24b01a55-bb99-458b-9c40-8dee177abb51",
   "metadata": {},
   "outputs": [],
   "source": [
    "# 4 or more than 4 are pink (may be 5 pink, may be 6 pink,may be 7 pink, may be 8 pink)\n",
    "# total trials - 8\n",
    "# p = 1.5\n",
    "\n",
    "# bm.sf(3,8,1.5)"
   ]
  },
  {
   "cell_type": "code",
   "execution_count": null,
   "id": "1149d521-db29-4357-9148-2233614dfe16",
   "metadata": {},
   "outputs": [],
   "source": []
  },
  {
   "cell_type": "markdown",
   "id": "d7d4c575-3c01-4b00-9c1d-cdec5defc84a",
   "metadata": {},
   "source": [
    "## Poisson Distribution"
   ]
  },
  {
   "cell_type": "code",
   "execution_count": 22,
   "id": "7bae3add-96c2-4f07-8e53-81425e115455",
   "metadata": {},
   "outputs": [],
   "source": [
    "from scipy.stats import poisson as ps"
   ]
  },
  {
   "cell_type": "markdown",
   "id": "1dcdff8b-d4d1-4266-aa66-5f65f3ee2e64",
   "metadata": {},
   "source": [
    "### Probability Equal to"
   ]
  },
  {
   "cell_type": "code",
   "execution_count": null,
   "id": "e57641cf-2c1a-40e9-9247-2c5cead1d6fe",
   "metadata": {},
   "outputs": [],
   "source": [
    "# ps.pmf(number, mean)\n",
    "# ps.pmf(k=, mu=)"
   ]
  },
  {
   "cell_type": "code",
   "execution_count": 25,
   "id": "632f57f0-bd2b-48a2-8284-45b7081fe8bf",
   "metadata": {},
   "outputs": [
    {
     "data": {
      "text/plain": [
       "0.18044704431548356"
      ]
     },
     "execution_count": 25,
     "metadata": {},
     "output_type": "execute_result"
    }
   ],
   "source": [
    "x = 3\n",
    "mu = 2\n",
    "\n",
    "ps.pmf(k=3, mu=2)"
   ]
  },
  {
   "cell_type": "code",
   "execution_count": 31,
   "id": "ec613057-ed36-4956-8c28-5b03f26ec895",
   "metadata": {},
   "outputs": [
    {
     "data": {
      "text/plain": [
       "0.18048446723602296"
      ]
     },
     "execution_count": 31,
     "metadata": {},
     "output_type": "execute_result"
    }
   ],
   "source": [
    "2.718**-2*2**3/6"
   ]
  },
  {
   "cell_type": "markdown",
   "id": "15cf5b80-f3fb-40f0-be8e-168e09bda837",
   "metadata": {},
   "source": [
    "### Probability Less than"
   ]
  },
  {
   "cell_type": "code",
   "execution_count": null,
   "id": "9c62b365-e9dd-482e-bbc6-29c62a6ad918",
   "metadata": {},
   "outputs": [],
   "source": [
    "# ps.cdf(k=, mu=)"
   ]
  },
  {
   "cell_type": "markdown",
   "id": "4faa0415-0a7a-4076-be22-a45008a0c1e0",
   "metadata": {},
   "source": [
    "### Probability Greater than"
   ]
  },
  {
   "cell_type": "code",
   "execution_count": null,
   "id": "c3ed095c-e17c-47e3-8fad-394484459309",
   "metadata": {},
   "outputs": [],
   "source": [
    "# 1-ps.cdf(k=, mu=)\n",
    "# ps.sf(k=, mu=)"
   ]
  },
  {
   "cell_type": "code",
   "execution_count": null,
   "id": "f382be7c-c187-44d1-9467-7950c92a9d8d",
   "metadata": {},
   "outputs": [],
   "source": [
    "# once we are going to create the algorithm and then the algorithm is going to give you the result in the form of probability and\n",
    "# you are checking the accuracy what is the probabilty? whatever result we are getting and how it is going to be there - here we use these distributions"
   ]
  },
  {
   "cell_type": "code",
   "execution_count": null,
   "id": "f1bda23a-07b7-46f3-a1a0-d6e826c5836a",
   "metadata": {},
   "outputs": [],
   "source": []
  }
 ],
 "metadata": {
  "kernelspec": {
   "display_name": "Python [conda env:base] *",
   "language": "python",
   "name": "conda-base-py"
  },
  "language_info": {
   "codemirror_mode": {
    "name": "ipython",
    "version": 3
   },
   "file_extension": ".py",
   "mimetype": "text/x-python",
   "name": "python",
   "nbconvert_exporter": "python",
   "pygments_lexer": "ipython3",
   "version": "3.12.7"
  }
 },
 "nbformat": 4,
 "nbformat_minor": 5
}
