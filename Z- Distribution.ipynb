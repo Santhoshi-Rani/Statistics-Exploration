{
 "cells": [
  {
   "cell_type": "code",
   "execution_count": 1,
   "id": "883d92e2",
   "metadata": {},
   "outputs": [],
   "source": [
    "import numpy as np\n",
    "import matplotlib.pyplot as plt\n",
    "import seaborn as sns"
   ]
  },
  {
   "cell_type": "code",
   "execution_count": 2,
   "id": "f5cad578",
   "metadata": {},
   "outputs": [],
   "source": [
    "m=527\n",
    "x=500\n",
    "s=112"
   ]
  },
  {
   "cell_type": "code",
   "execution_count": 3,
   "id": "0bcf3142",
   "metadata": {},
   "outputs": [],
   "source": [
    "# Find the probability of scoring more than 500"
   ]
  },
  {
   "cell_type": "code",
   "execution_count": 4,
   "id": "b61fcc9c",
   "metadata": {},
   "outputs": [],
   "source": [
    "import scipy.stats as st"
   ]
  },
  {
   "cell_type": "code",
   "execution_count": 6,
   "id": "4865e311",
   "metadata": {},
   "outputs": [
    {
     "data": {
      "text/plain": [
       "-0.24107142857142858"
      ]
     },
     "execution_count": 6,
     "metadata": {},
     "output_type": "execute_result"
    }
   ],
   "source": [
    "z=(x-m)/s\n",
    "z"
   ]
  },
  {
   "cell_type": "markdown",
   "id": "e2e7e000-3229-47b5-a2dd-96b8e774ae9e",
   "metadata": {},
   "source": [
    "##### To find the probability under the curve we have two functions\n",
    "##### 1. cdf()\n",
    "##### 2. sf()"
   ]
  },
  {
   "cell_type": "code",
   "execution_count": 5,
   "id": "b7b990d2",
   "metadata": {},
   "outputs": [],
   "source": [
    "# st.norm.cdf(z value) -> here it givs area under the curve\n",
    "# here we applying normal distribution\n",
    "# cdf giving the area under the curve, here we have to pass the z value"
   ]
  },
  {
   "cell_type": "code",
   "execution_count": 8,
   "id": "68307c9c",
   "metadata": {},
   "outputs": [
    {
     "data": {
      "text/plain": [
       "0.5952501217429682"
      ]
     },
     "execution_count": 8,
     "metadata": {},
     "output_type": "execute_result"
    }
   ],
   "source": [
    "1-st.norm.cdf(z)\n",
    "# but here we need area above the curve therefore 1-st.norm.cdf(z)"
   ]
  },
  {
   "cell_type": "code",
   "execution_count": 16,
   "id": "84ef7f2f",
   "metadata": {},
   "outputs": [
    {
     "data": {
      "text/plain": [
       "0.6827"
      ]
     },
     "execution_count": 16,
     "metadata": {},
     "output_type": "execute_result"
    }
   ],
   "source": [
    "np.round(st.norm.cdf(1)-st.norm.cdf(-1),4)"
   ]
  },
  {
   "cell_type": "code",
   "execution_count": 14,
   "id": "b977205e",
   "metadata": {},
   "outputs": [
    {
     "data": {
      "text/plain": [
       "0.9545"
      ]
     },
     "execution_count": 14,
     "metadata": {},
     "output_type": "execute_result"
    }
   ],
   "source": [
    "np.round(st.norm.cdf(2)-st.norm.cdf(-2),4)"
   ]
  },
  {
   "cell_type": "code",
   "execution_count": 15,
   "id": "ca288912",
   "metadata": {},
   "outputs": [
    {
     "data": {
      "text/plain": [
       "0.9973"
      ]
     },
     "execution_count": 15,
     "metadata": {},
     "output_type": "execute_result"
    }
   ],
   "source": [
    "np.round(st.norm.cdf(3)-st.norm.cdf(-3),4)"
   ]
  },
  {
   "cell_type": "code",
   "execution_count": 17,
   "id": "d1f941ae",
   "metadata": {},
   "outputs": [],
   "source": [
    "# The average value is 20\n",
    "# sd=5\n",
    "# Find the probability of a value that lies in between 15 and 25"
   ]
  },
  {
   "cell_type": "code",
   "execution_count": 18,
   "id": "8d7267b2",
   "metadata": {},
   "outputs": [
    {
     "data": {
      "text/plain": [
       "-1.0"
      ]
     },
     "execution_count": 18,
     "metadata": {},
     "output_type": "execute_result"
    }
   ],
   "source": [
    "m=20\n",
    "s=5\n",
    "x=15\n",
    "\n",
    "z=(x-m)/s\n",
    "z"
   ]
  },
  {
   "cell_type": "code",
   "execution_count": 19,
   "id": "d59a5787",
   "metadata": {},
   "outputs": [
    {
     "data": {
      "text/plain": [
       "1.0"
      ]
     },
     "execution_count": 19,
     "metadata": {},
     "output_type": "execute_result"
    }
   ],
   "source": [
    "m=20\n",
    "s=5\n",
    "x=25\n",
    "\n",
    "z=(x-m)/s\n",
    "z"
   ]
  },
  {
   "cell_type": "code",
   "execution_count": 20,
   "id": "28e7a0c8",
   "metadata": {},
   "outputs": [
    {
     "data": {
      "text/plain": [
       "0.15865525393145707"
      ]
     },
     "execution_count": 20,
     "metadata": {},
     "output_type": "execute_result"
    }
   ],
   "source": [
    "# 1st method\n",
    "st.norm.cdf(-1)\n",
    "# here it is giving the probability of area below 15\n",
    "# as the data is normally distributed and the curve is symmetric so the probability of area above 25 will be 0.158655.."
   ]
  },
  {
   "cell_type": "code",
   "execution_count": 22,
   "id": "77ed19e4",
   "metadata": {},
   "outputs": [
    {
     "data": {
      "text/plain": [
       "0.6826894921370859"
      ]
     },
     "execution_count": 22,
     "metadata": {},
     "output_type": "execute_result"
    }
   ],
   "source": [
    "1-st.norm.cdf(-1)*2"
   ]
  },
  {
   "cell_type": "code",
   "execution_count": 24,
   "id": "0c4fa6ee",
   "metadata": {},
   "outputs": [
    {
     "data": {
      "text/plain": [
       "0.6826894921370859"
      ]
     },
     "execution_count": 24,
     "metadata": {},
     "output_type": "execute_result"
    }
   ],
   "source": [
    "# 2nd method\n",
    "st.norm.cdf(1)-st.norm.cdf(-1)"
   ]
  },
  {
   "cell_type": "code",
   "execution_count": 25,
   "id": "974041ea",
   "metadata": {},
   "outputs": [],
   "source": [
    "# cdf()\n",
    "# - It returns the probability (area under the curve)"
   ]
  },
  {
   "cell_type": "code",
   "execution_count": 26,
   "id": "6c24cd7d",
   "metadata": {},
   "outputs": [],
   "source": [
    "# In the same question\n",
    "# Find the probability of a value less than equal to 15"
   ]
  },
  {
   "cell_type": "code",
   "execution_count": 27,
   "id": "e67070d5",
   "metadata": {},
   "outputs": [
    {
     "data": {
      "text/plain": [
       "0.15865525393145707"
      ]
     },
     "execution_count": 27,
     "metadata": {},
     "output_type": "execute_result"
    }
   ],
   "source": [
    "st.norm.cdf(-1)"
   ]
  },
  {
   "cell_type": "code",
   "execution_count": 28,
   "id": "8895eab6",
   "metadata": {},
   "outputs": [],
   "source": [
    "# Find the probability of a value greater than to 15"
   ]
  },
  {
   "cell_type": "code",
   "execution_count": 29,
   "id": "833448e6",
   "metadata": {},
   "outputs": [],
   "source": [
    "# 1-p(z=-1)"
   ]
  },
  {
   "cell_type": "code",
   "execution_count": 30,
   "id": "4afed5e9",
   "metadata": {},
   "outputs": [
    {
     "data": {
      "text/plain": [
       "0.8413447460685429"
      ]
     },
     "execution_count": 30,
     "metadata": {},
     "output_type": "execute_result"
    }
   ],
   "source": [
    "1-st.norm.cdf(-1)"
   ]
  },
  {
   "cell_type": "code",
   "execution_count": 31,
   "id": "8d4103a0",
   "metadata": {},
   "outputs": [],
   "source": [
    "# Find the probability of a value greater than to 25\n",
    "\n",
    "# Here z=1"
   ]
  },
  {
   "cell_type": "code",
   "execution_count": 33,
   "id": "1527d0f6",
   "metadata": {},
   "outputs": [
    {
     "data": {
      "text/plain": [
       "0.15865525393145707"
      ]
     },
     "execution_count": 33,
     "metadata": {},
     "output_type": "execute_result"
    }
   ],
   "source": [
    "1-st.norm.cdf(1)"
   ]
  },
  {
   "cell_type": "code",
   "execution_count": null,
   "id": "40021420-6f8c-4e1f-aef0-5c151d51e781",
   "metadata": {},
   "outputs": [],
   "source": [
    "# pdf gives probability of any particular data point\n",
    "# cdf is cummulative distribution"
   ]
  },
  {
   "cell_type": "code",
   "execution_count": 34,
   "id": "457aa0a0",
   "metadata": {},
   "outputs": [],
   "source": [
    "# 2nd function\n",
    "# st.norm.sf(z_value)\n",
    "# - Area above the curve"
   ]
  },
  {
   "cell_type": "code",
   "execution_count": 35,
   "id": "909ba6e4",
   "metadata": {},
   "outputs": [],
   "source": [
    "# Find the probability of a value greater than to 25\n",
    "# Here z=1"
   ]
  },
  {
   "cell_type": "code",
   "execution_count": 36,
   "id": "caee4a0d",
   "metadata": {},
   "outputs": [
    {
     "data": {
      "text/plain": [
       "0.15865525393145707"
      ]
     },
     "execution_count": 36,
     "metadata": {},
     "output_type": "execute_result"
    }
   ],
   "source": [
    "st.norm.sf(1)"
   ]
  },
  {
   "cell_type": "code",
   "execution_count": 37,
   "id": "3ba3fb46",
   "metadata": {},
   "outputs": [],
   "source": [
    "# Find the probability of a value greater than to 15\n",
    "# Here z=1"
   ]
  },
  {
   "cell_type": "code",
   "execution_count": 38,
   "id": "13203b2a",
   "metadata": {},
   "outputs": [
    {
     "data": {
      "text/plain": [
       "0.8413447460685429"
      ]
     },
     "execution_count": 38,
     "metadata": {},
     "output_type": "execute_result"
    }
   ],
   "source": [
    "st.norm.sf(-1)"
   ]
  },
  {
   "cell_type": "code",
   "execution_count": 39,
   "id": "383ce0bc",
   "metadata": {},
   "outputs": [
    {
     "data": {
      "text/plain": [
       "0.8413447460685429"
      ]
     },
     "execution_count": 39,
     "metadata": {},
     "output_type": "execute_result"
    }
   ],
   "source": [
    "1-st.norm.cdf(-1)"
   ]
  },
  {
   "cell_type": "code",
   "execution_count": 40,
   "id": "d3965fa5",
   "metadata": {},
   "outputs": [
    {
     "data": {
      "text/plain": [
       "0.8413447460685429"
      ]
     },
     "execution_count": 40,
     "metadata": {},
     "output_type": "execute_result"
    }
   ],
   "source": [
    "st.norm.cdf(1)"
   ]
  },
  {
   "cell_type": "markdown",
   "id": "66197025",
   "metadata": {},
   "source": [
    "# Z value using probbaility"
   ]
  },
  {
   "cell_type": "code",
   "execution_count": 41,
   "id": "05e7b694",
   "metadata": {},
   "outputs": [],
   "source": [
    "# In GMAT exam the average score is 527 with the standard deviation 112\n",
    "# How much marks Puja has scored if her the percentile is 38"
   ]
  },
  {
   "cell_type": "code",
   "execution_count": null,
   "id": "760e30d2-ff98-4a95-8171-cb3d7596715b",
   "metadata": {},
   "outputs": [],
   "source": [
    "# percentile means 30% of total observations are less than that particular value"
   ]
  },
  {
   "cell_type": "code",
   "execution_count": 42,
   "id": "066929cc",
   "metadata": {},
   "outputs": [],
   "source": [
    "# st.norm.ppf(probability)- returns z score"
   ]
  },
  {
   "cell_type": "code",
   "execution_count": 43,
   "id": "af932e07",
   "metadata": {},
   "outputs": [
    {
     "data": {
      "text/plain": [
       "-0.3054807880993974"
      ]
     },
     "execution_count": 43,
     "metadata": {},
     "output_type": "execute_result"
    }
   ],
   "source": [
    "st.norm.ppf(.38)"
   ]
  },
  {
   "cell_type": "code",
   "execution_count": 45,
   "id": "6ef28f9c",
   "metadata": {},
   "outputs": [
    {
     "data": {
      "text/plain": [
       "492.7952"
      ]
     },
     "execution_count": 45,
     "metadata": {},
     "output_type": "execute_result"
    }
   ],
   "source": [
    "x=527+(-.3054)*112\n",
    "x"
   ]
  },
  {
   "cell_type": "code",
   "execution_count": 46,
   "id": "cc639b1f",
   "metadata": {},
   "outputs": [],
   "source": [
    "# x=x_bar+z*s"
   ]
  },
  {
   "cell_type": "code",
   "execution_count": 47,
   "id": "659bc22f",
   "metadata": {},
   "outputs": [],
   "source": [
    "# How much Sachin has score if he is in the top 5% students"
   ]
  },
  {
   "cell_type": "code",
   "execution_count": 49,
   "id": "b7637511",
   "metadata": {},
   "outputs": [
    {
     "data": {
      "text/plain": [
       "1.6448536269514722"
      ]
     },
     "execution_count": 49,
     "metadata": {},
     "output_type": "execute_result"
    }
   ],
   "source": [
    "z=st.norm.ppf(0.95)\n",
    "z"
   ]
  },
  {
   "cell_type": "code",
   "execution_count": 52,
   "id": "4061b981",
   "metadata": {},
   "outputs": [],
   "source": [
    "s=112"
   ]
  },
  {
   "cell_type": "code",
   "execution_count": 53,
   "id": "c16e8b70",
   "metadata": {},
   "outputs": [
    {
     "data": {
      "text/plain": [
       "711.2236062185649"
      ]
     },
     "execution_count": 53,
     "metadata": {},
     "output_type": "execute_result"
    }
   ],
   "source": [
    "x=527+z*s\n",
    "x"
   ]
  },
  {
   "cell_type": "markdown",
   "id": "28d51328",
   "metadata": {},
   "source": [
    "# How to check if the data is normally distributed or not?"
   ]
  },
  {
   "cell_type": "code",
   "execution_count": 54,
   "id": "fb3f76fc",
   "metadata": {},
   "outputs": [],
   "source": [
    "# - Plot the data\n",
    "# - Histogram\n",
    "# - KDE"
   ]
  },
  {
   "cell_type": "code",
   "execution_count": 56,
   "id": "a9d11fe9",
   "metadata": {},
   "outputs": [
    {
     "data": {
      "text/plain": [
       "array([0.09310829, 0.97165592, 0.48385998, 0.2425227 , 0.53112383,\n",
       "       0.28554424, 0.86263038, 0.04110015, 0.10834773, 0.76716005,\n",
       "       0.05142871, 0.77571654, 0.00913894, 0.61831211, 0.81870933])"
      ]
     },
     "execution_count": 56,
     "metadata": {},
     "output_type": "execute_result"
    }
   ],
   "source": [
    "np.random.seed(55)\n",
    "x=np.random.random(15)\n",
    "x"
   ]
  },
  {
   "cell_type": "code",
   "execution_count": 58,
   "id": "79384107",
   "metadata": {},
   "outputs": [
    {
     "data": {
      "image/png": "[encoded data removed]",
      "text/plain": [
       "<Figure size 640x480 with 1 Axes>"
      ]
     },
     "metadata": {},
     "output_type": "display_data"
    }
   ],
   "source": [
    "sns.histplot(x)\n",
    "plt.show()"
   ]
  },
  {
   "cell_type": "code",
   "execution_count": 60,
   "id": "10320628",
   "metadata": {},
   "outputs": [
    {
     "data": {
      "image/png": "[encoded data removed]",
      "text/plain": [
       "<Figure size 640x480 with 1 Axes>"
      ]
     },
     "metadata": {},
     "output_type": "display_data"
    }
   ],
   "source": [
    "sns.kdeplot(x)\n",
    "\n",
    "plt.show()"
   ]
  },
  {
   "cell_type": "code",
   "execution_count": 61,
   "id": "4d703388",
   "metadata": {},
   "outputs": [
    {
     "data": {
      "text/plain": [
       "array([0.57051729, 0.56452876, 0.48844183, 0.33647775, 0.37586818,\n",
       "       0.53203587, 0.06810629, 0.58452906, 0.23789776, 0.16075658,\n",
       "       0.15211915, 0.12706922, 0.32744117, 0.69415387, 0.35896647])"
      ]
     },
     "execution_count": 61,
     "metadata": {},
     "output_type": "execute_result"
    }
   ],
   "source": [
    "np.random.seed(2000)\n",
    "x=np.random.random(15)\n",
    "x"
   ]
  },
  {
   "cell_type": "code",
   "execution_count": 63,
   "id": "ba020239",
   "metadata": {},
   "outputs": [
    {
     "data": {
      "image/png": "[encoded data removed]",
      "text/plain": [
       "<Figure size 640x480 with 1 Axes>"
      ]
     },
     "metadata": {},
     "output_type": "display_data"
    }
   ],
   "source": [
    "sns.histplot(x)\n",
    "\n",
    "plt.show()"
   ]
  },
  {
   "cell_type": "code",
   "execution_count": 65,
   "id": "50c3a8d8",
   "metadata": {},
   "outputs": [
    {
     "data": {
      "image/png": "[encoded data removed]",
      "text/plain": [
       "<Figure size 640x480 with 1 Axes>"
      ]
     },
     "metadata": {},
     "output_type": "display_data"
    }
   ],
   "source": [
    "sns.kdeplot(x)\n",
    "plt.show()"
   ]
  },
  {
   "cell_type": "code",
   "execution_count": 69,
   "id": "c7b65df5",
   "metadata": {},
   "outputs": [
    {
     "data": {
      "text/plain": [
       "array([20.07912432, 20.7809651 , 18.81456338, 19.38709728, 16.18510204,\n",
       "       12.20936411, 20.86904274, 17.38008607, 21.18221797, 22.80531663,\n",
       "       19.95294588, 20.7787879 , 15.58005728, 22.40577979, 14.74774284,\n",
       "       18.51484421, 16.97419757, 20.07573256, 19.63547944, 15.35938045,\n",
       "       18.17916808, 15.81856198, 18.11691352, 20.99789646, 15.37589947,\n",
       "       25.01089946, 18.5013624 , 22.01938689, 26.74426872, 15.03721175,\n",
       "       18.57680895, 19.09425428, 17.20692087, 23.33295818, 19.43095112,\n",
       "       23.83522877, 18.33776864, 21.06290822, 18.67917148, 18.72665352,\n",
       "       20.68424487, 21.7371325 , 17.43743494, 17.475979  , 18.03288766,\n",
       "       19.5593519 , 15.7640735 , 19.18832953, 23.38790991, 15.97922579,\n",
       "       19.25211192, 25.29047664, 18.22412172, 17.27656496, 20.81539885,\n",
       "       19.98631499, 22.56232081, 15.22998535, 20.16814696, 20.3175877 ,\n",
       "       19.72748727, 17.85837183, 20.61114618, 23.60909551, 20.25293921,\n",
       "       20.49180177, 21.12125465, 19.31927945, 17.98617679, 20.94232964,\n",
       "       24.45325434, 21.95649247, 19.3022799 , 23.55423856, 22.76284194,\n",
       "       23.64950237, 14.35021158, 20.66387593, 25.44978576, 25.22865193,\n",
       "       19.81856664, 18.23135646, 17.53391122, 19.84334553, 19.74428759,\n",
       "       21.29315849, 19.40996132, 18.01822576, 19.26051007, 19.37137159,\n",
       "       18.48136697, 15.68413641, 19.38796701, 18.29769684, 18.95366319,\n",
       "       16.9094353 , 21.75753877, 21.11548922, 12.7785636 , 22.89194946,\n",
       "       20.28951228, 21.28629808, 21.79200095, 22.19025912, 16.42561755,\n",
       "       24.54373253, 17.90706699, 19.02128189, 22.34949451, 14.93862579,\n",
       "       24.24923243, 18.11253587, 18.45141089, 27.3397798 , 15.25339806,\n",
       "       14.58309235, 21.1339979 , 16.92924146, 17.12607056, 19.39678805,\n",
       "       20.91176914, 19.2842984 , 21.67903587, 15.86337473, 24.10943354,\n",
       "       14.562674  , 20.39503161, 25.28061423, 18.41274148, 22.93438746,\n",
       "       16.81693211, 15.89691793, 14.47215916, 18.44611116, 24.88223546,\n",
       "       20.96752526, 22.09560713, 28.98090193, 20.68530598, 19.16256166,\n",
       "       20.6965783 , 22.94647749, 20.06970332, 20.97838921, 19.16471755,\n",
       "       19.73727656, 24.41350577, 18.58467815, 20.92953374, 19.51928806])"
      ]
     },
     "execution_count": 69,
     "metadata": {},
     "output_type": "execute_result"
    }
   ],
   "source": [
    "np.random.seed(45)\n",
    "x=np.random.normal(20,3,150) # here meanis 20, s.d is 3 and 150 values\n",
    "x"
   ]
  },
  {
   "cell_type": "code",
   "execution_count": 71,
   "id": "3878d9b9",
   "metadata": {},
   "outputs": [
    {
     "data": {
      "image/png": "[encoded data removed]",
      "text/plain": [
       "<Figure size 640x480 with 1 Axes>"
      ]
     },
     "metadata": {},
     "output_type": "display_data"
    }
   ],
   "source": [
    "sns.histplot(x)\n",
    "plt.show()"
   ]
  },
  {
   "cell_type": "code",
   "execution_count": 73,
   "id": "46ea9c87",
   "metadata": {},
   "outputs": [
    {
     "data": {
      "image/png": "[encoded data removed]",
      "text/plain": [
       "<Figure size 640x480 with 1 Axes>"
      ]
     },
     "metadata": {},
     "output_type": "display_data"
    }
   ],
   "source": [
    "sns.kdeplot(x)\n",
    "plt.show()"
   ]
  },
  {
   "cell_type": "code",
   "execution_count": 74,
   "id": "1bcdcabd",
   "metadata": {},
   "outputs": [],
   "source": [
    "# In x variable treat the outliers using the Z-Score method"
   ]
  },
  {
   "cell_type": "code",
   "execution_count": 77,
   "id": "31e2933d",
   "metadata": {},
   "outputs": [],
   "source": [
    "m=x.mean()\n",
    "s=x.std()"
   ]
  },
  {
   "cell_type": "code",
   "execution_count": 79,
   "id": "4b685bd4",
   "metadata": {},
   "outputs": [
    {
     "data": {
      "text/plain": [
       "10.8330150133133"
      ]
     },
     "execution_count": 79,
     "metadata": {},
     "output_type": "execute_result"
    }
   ],
   "source": [
    "lower=m-3*s\n",
    "lower"
   ]
  },
  {
   "cell_type": "code",
   "execution_count": 82,
   "id": "2ee81bd9",
   "metadata": {},
   "outputs": [
    {
     "data": {
      "text/plain": [
       "28.69292287699539"
      ]
     },
     "execution_count": 82,
     "metadata": {},
     "output_type": "execute_result"
    }
   ],
   "source": [
    "upper=m+3*s\n",
    "upper"
   ]
  },
  {
   "cell_type": "code",
   "execution_count": 84,
   "id": "d0881377",
   "metadata": {},
   "outputs": [
    {
     "data": {
      "text/plain": [
       "array([28.98090193])"
      ]
     },
     "execution_count": 84,
     "metadata": {},
     "output_type": "execute_result"
    }
   ],
   "source": [
    "x[(x<lower)|(x>upper)]"
   ]
  },
  {
   "cell_type": "code",
   "execution_count": 87,
   "id": "99479808",
   "metadata": {},
   "outputs": [
    {
     "data": {
      "text/plain": [
       "array([-2.        ,  0.        ,  1.        ,  4.        ,  6.        ,\n",
       "       20.07912432, 20.7809651 , 18.81456338, 19.38709728, 16.18510204,\n",
       "       12.20936411, 20.86904274, 17.38008607, 21.18221797, 22.80531663,\n",
       "       19.95294588, 20.7787879 , 15.58005728, 22.40577979, 14.74774284,\n",
       "       18.51484421, 16.97419757, 20.07573256, 19.63547944, 15.35938045,\n",
       "       18.17916808, 15.81856198, 18.11691352, 20.99789646, 15.37589947,\n",
       "       25.01089946, 18.5013624 , 22.01938689, 26.74426872, 15.03721175,\n",
       "       18.57680895, 19.09425428, 17.20692087, 23.33295818, 19.43095112,\n",
       "       23.83522877, 18.33776864, 21.06290822, 18.67917148, 18.72665352,\n",
       "       20.68424487, 21.7371325 , 17.43743494, 17.475979  , 18.03288766,\n",
       "       19.5593519 , 15.7640735 , 19.18832953, 23.38790991, 15.97922579,\n",
       "       19.25211192, 25.29047664, 18.22412172, 17.27656496, 20.81539885,\n",
       "       19.98631499, 22.56232081, 15.22998535, 20.16814696, 20.3175877 ,\n",
       "       19.72748727, 17.85837183, 20.61114618, 23.60909551, 20.25293921,\n",
       "       20.49180177, 21.12125465, 19.31927945, 17.98617679, 20.94232964,\n",
       "       24.45325434, 21.95649247, 19.3022799 , 23.55423856, 22.76284194,\n",
       "       23.64950237, 14.35021158, 20.66387593, 25.44978576, 25.22865193,\n",
       "       19.81856664, 18.23135646, 17.53391122, 19.84334553, 19.74428759,\n",
       "       21.29315849, 19.40996132, 18.01822576, 19.26051007, 19.37137159,\n",
       "       18.48136697, 15.68413641, 19.38796701, 18.29769684, 18.95366319,\n",
       "       16.9094353 , 21.75753877, 21.11548922, 12.7785636 , 22.89194946,\n",
       "       20.28951228, 21.28629808, 21.79200095, 22.19025912, 16.42561755,\n",
       "       24.54373253, 17.90706699, 19.02128189, 22.34949451, 14.93862579,\n",
       "       24.24923243, 18.11253587, 18.45141089, 27.3397798 , 15.25339806,\n",
       "       14.58309235, 21.1339979 , 16.92924146, 17.12607056, 19.39678805,\n",
       "       20.91176914, 19.2842984 , 21.67903587, 15.86337473, 24.10943354,\n",
       "       14.562674  , 20.39503161, 25.28061423, 18.41274148, 22.93438746,\n",
       "       16.81693211, 15.89691793, 14.47215916, 18.44611116, 24.88223546,\n",
       "       20.96752526, 22.09560713, 28.98090193, 20.68530598, 19.16256166,\n",
       "       20.6965783 , 22.94647749, 20.06970332, 20.97838921, 19.16471755,\n",
       "       19.73727656, 24.41350577, 18.58467815, 20.92953374, 19.51928806])"
      ]
     },
     "execution_count": 87,
     "metadata": {},
     "output_type": "execute_result"
    }
   ],
   "source": [
    "y=np.concatenate((np.array([-2,0,1,4,6]),x))\n",
    "y"
   ]
  },
  {
   "cell_type": "code",
   "execution_count": 89,
   "id": "d5d054eb",
   "metadata": {},
   "outputs": [],
   "source": [
    "y_mean=y.mean()\n",
    "y_s=y.std()\n",
    "lower_y=y_mean-3*y_s\n",
    "upper_y=y_mean+3*y_s"
   ]
  },
  {
   "cell_type": "code",
   "execution_count": 91,
   "id": "466e2100",
   "metadata": {},
   "outputs": [
    {
     "data": {
      "text/plain": [
       "6.137571346709013"
      ]
     },
     "execution_count": 91,
     "metadata": {},
     "output_type": "execute_result"
    }
   ],
   "source": [
    "lower_y"
   ]
  },
  {
   "cell_type": "code",
   "execution_count": 92,
   "id": "a423f4f6",
   "metadata": {},
   "outputs": [
    {
     "data": {
      "text/plain": [
       "32.22946532133166"
      ]
     },
     "execution_count": 92,
     "metadata": {},
     "output_type": "execute_result"
    }
   ],
   "source": [
    "upper_y"
   ]
  },
  {
   "cell_type": "code",
   "execution_count": 95,
   "id": "94a5106b",
   "metadata": {},
   "outputs": [
    {
     "data": {
      "text/plain": [
       "array([-2.,  0.,  1.,  4.,  6.])"
      ]
     },
     "execution_count": 95,
     "metadata": {},
     "output_type": "execute_result"
    }
   ],
   "source": [
    "y[(y<lower_y)|(y>upper_y)]\n",
    "# here we are checking for outliers"
   ]
  },
  {
   "cell_type": "code",
   "execution_count": 97,
   "id": "ce4bed7e",
   "metadata": {},
   "outputs": [
    {
     "data": {
      "text/plain": [
       "array([ 6.13757135,  6.13757135,  6.13757135,  6.13757135,  6.13757135,\n",
       "       20.07912432, 20.7809651 , 18.81456338, 19.38709728, 16.18510204,\n",
       "       12.20936411, 20.86904274, 17.38008607, 21.18221797, 22.80531663,\n",
       "       19.95294588, 20.7787879 , 15.58005728, 22.40577979, 14.74774284,\n",
       "       18.51484421, 16.97419757, 20.07573256, 19.63547944, 15.35938045,\n",
       "       18.17916808, 15.81856198, 18.11691352, 20.99789646, 15.37589947,\n",
       "       25.01089946, 18.5013624 , 22.01938689, 26.74426872, 15.03721175,\n",
       "       18.57680895, 19.09425428, 17.20692087, 23.33295818, 19.43095112,\n",
       "       23.83522877, 18.33776864, 21.06290822, 18.67917148, 18.72665352,\n",
       "       20.68424487, 21.7371325 , 17.43743494, 17.475979  , 18.03288766,\n",
       "       19.5593519 , 15.7640735 , 19.18832953, 23.38790991, 15.97922579,\n",
       "       19.25211192, 25.29047664, 18.22412172, 17.27656496, 20.81539885,\n",
       "       19.98631499, 22.56232081, 15.22998535, 20.16814696, 20.3175877 ,\n",
       "       19.72748727, 17.85837183, 20.61114618, 23.60909551, 20.25293921,\n",
       "       20.49180177, 21.12125465, 19.31927945, 17.98617679, 20.94232964,\n",
       "       24.45325434, 21.95649247, 19.3022799 , 23.55423856, 22.76284194,\n",
       "       23.64950237, 14.35021158, 20.66387593, 25.44978576, 25.22865193,\n",
       "       19.81856664, 18.23135646, 17.53391122, 19.84334553, 19.74428759,\n",
       "       21.29315849, 19.40996132, 18.01822576, 19.26051007, 19.37137159,\n",
       "       18.48136697, 15.68413641, 19.38796701, 18.29769684, 18.95366319,\n",
       "       16.9094353 , 21.75753877, 21.11548922, 12.7785636 , 22.89194946,\n",
       "       20.28951228, 21.28629808, 21.79200095, 22.19025912, 16.42561755,\n",
       "       24.54373253, 17.90706699, 19.02128189, 22.34949451, 14.93862579,\n",
       "       24.24923243, 18.11253587, 18.45141089, 27.3397798 , 15.25339806,\n",
       "       14.58309235, 21.1339979 , 16.92924146, 17.12607056, 19.39678805,\n",
       "       20.91176914, 19.2842984 , 21.67903587, 15.86337473, 24.10943354,\n",
       "       14.562674  , 20.39503161, 25.28061423, 18.41274148, 22.93438746,\n",
       "       16.81693211, 15.89691793, 14.47215916, 18.44611116, 24.88223546,\n",
       "       20.96752526, 22.09560713, 28.98090193, 20.68530598, 19.16256166,\n",
       "       20.6965783 , 22.94647749, 20.06970332, 20.97838921, 19.16471755,\n",
       "       19.73727656, 24.41350577, 18.58467815, 20.92953374, 19.51928806])"
      ]
     },
     "execution_count": 97,
     "metadata": {},
     "output_type": "execute_result"
    }
   ],
   "source": [
    "y_cap=y.clip(lower_y,upper_y)\n",
    "y_cap\n",
    "# now we are capping those outliers"
   ]
  },
  {
   "cell_type": "code",
   "execution_count": 98,
   "id": "e9c611bb",
   "metadata": {},
   "outputs": [
    {
     "data": {
      "text/plain": [
       "<Axes: >"
      ]
     },
     "execution_count": 98,
     "metadata": {},
     "output_type": "execute_result"
    },
    {
     "data": {
      "image/png": "[encoded data removed]",
      "text/plain": [
       "<Figure size 640x480 with 1 Axes>"
      ]
     },
     "metadata": {},
     "output_type": "display_data"
    }
   ],
   "source": [
    "sns.boxplot(y)"
   ]
  },
  {
   "cell_type": "markdown",
   "id": "b95d7b3f-5f6c-487f-9840-56a403d349bd",
   "metadata": {},
   "source": [
    "#### Now we are finding outliers using IQR method by plotting boxplot"
   ]
  },
  {
   "cell_type": "code",
   "execution_count": 99,
   "id": "054c6812",
   "metadata": {},
   "outputs": [
    {
     "data": {
      "text/plain": [
       "<Axes: >"
      ]
     },
     "execution_count": 99,
     "metadata": {},
     "output_type": "execute_result"
    },
    {
     "data": {
      "image/png": "[encoded data removed]",
      "text/plain": [
       "<Figure size 640x480 with 1 Axes>"
      ]
     },
     "metadata": {},
     "output_type": "display_data"
    }
   ],
   "source": [
    "sns.boxplot(y_cap)"
   ]
  },
  {
   "cell_type": "code",
   "execution_count": 101,
   "id": "ab286b2f",
   "metadata": {},
   "outputs": [
    {
     "data": {
      "image/png": "[encoded data removed]",
      "text/plain": [
       "<Figure size 640x480 with 1 Axes>"
      ]
     },
     "metadata": {},
     "output_type": "display_data"
    }
   ],
   "source": [
    "sns.kdeplot(y_cap)\n",
    "\n",
    "plt.show()"
   ]
  },
  {
   "cell_type": "code",
   "execution_count": 123,
   "id": "02d3bdc5",
   "metadata": {},
   "outputs": [],
   "source": []
  },
  {
   "cell_type": "code",
   "execution_count": 134,
   "id": "bfa06c4e",
   "metadata": {},
   "outputs": [
    {
     "data": {
      "text/plain": [
       "array([0.77132064, 0.02075195, 0.63364823, 0.74880388, 0.49850701,\n",
       "       0.22479665, 0.19806286, 0.76053071, 0.16911084, 0.08833981,\n",
       "       0.68535982, 0.95339335, 0.00394827, 0.51219226, 0.81262096])"
      ]
     },
     "execution_count": 134,
     "metadata": {},
     "output_type": "execute_result"
    }
   ],
   "source": [
    "np.random.seed(10)\n",
    "np.random.random(15)"
   ]
  },
  {
   "cell_type": "code",
   "execution_count": 112,
   "id": "a756822f",
   "metadata": {},
   "outputs": [],
   "source": [
    "array([0.77132064, 0.02075195, 0.63364823, 0.74880388, 0.49850701,\n",
    "       0.22479665, 0.19806286, 0.76053071, 0.16911084, 0.08833981])"
   ]
  },
  {
   "cell_type": "code",
   "execution_count": 130,
   "id": "59ba27c3",
   "metadata": {},
   "outputs": [
    {
     "data": {
      "text/plain": [
       "array([0.8488177 , 0.17889592, 0.05436321, 0.36153845, 0.27540093])"
      ]
     },
     "execution_count": 130,
     "metadata": {},
     "output_type": "execute_result"
    }
   ],
   "source": [
    "np.random.seed(15)\n",
    "np.random.random(5)"
   ]
  },
  {
   "cell_type": "code",
   "execution_count": 131,
   "id": "75d37dfb",
   "metadata": {},
   "outputs": [
    {
     "data": {
      "text/plain": [
       "4294967295"
      ]
     },
     "execution_count": 131,
     "metadata": {},
     "output_type": "execute_result"
    }
   ],
   "source": [
    "2**32-1\n",
    "# total number of seed values are between 0 to 2**32-1"
   ]
  },
  {
   "cell_type": "code",
   "execution_count": 136,
   "id": "0a269169",
   "metadata": {},
   "outputs": [],
   "source": [
    "# np.random.seed(4294967295+1)"
   ]
  },
  {
   "cell_type": "code",
   "execution_count": null,
   "id": "dc4630bc",
   "metadata": {},
   "outputs": [],
   "source": []
  }
 ],
 "metadata": {
  "kernelspec": {
   "display_name": "Python [conda env:base] *",
   "language": "python",
   "name": "conda-base-py"
  },
  "language_info": {
   "codemirror_mode": {
    "name": "ipython",
    "version": 3
   },
   "file_extension": ".py",
   "mimetype": "text/x-python",
   "name": "python",
   "nbconvert_exporter": "python",
   "pygments_lexer": "ipython3",
   "version": "3.12.7"
  }
 },
 "nbformat": 4,
 "nbformat_minor": 5
}
